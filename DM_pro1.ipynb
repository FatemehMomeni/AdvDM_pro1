{
  "nbformat": 4,
  "nbformat_minor": 0,
  "metadata": {
    "colab": {
      "name": "DM_pro1.ipynb",
      "provenance": [],
      "collapsed_sections": [
        "LYIPhWRF4yy6",
        "U3cm87V5smzx",
        "3jvDmcu1d-aX",
        "05hX01ee2agD",
        "QbYhRxyq5BI1"
      ],
      "toc_visible": true,
      "mount_file_id": "1qeaDX_xPyoAWqYv2SzW_tgrNbk3y-u02",
      "authorship_tag": "ABX9TyPGR8gsx+scKqCiWZPQOtTp",
      "include_colab_link": true
    },
    "kernelspec": {
      "name": "python3",
      "display_name": "Python 3"
    },
    "language_info": {
      "name": "python"
    }
  },
  "cells": [
    {
      "cell_type": "markdown",
      "metadata": {
        "id": "view-in-github",
        "colab_type": "text"
      },
      "source": [
        "<a href=\"https://colab.research.google.com/github/FatemehMomeni/AdvDM_pro1/blob/main/DM_pro1.ipynb\" target=\"_parent\"><img src=\"https://colab.research.google.com/assets/colab-badge.svg\" alt=\"Open In Colab\"/></a>"
      ]
    },
    {
      "cell_type": "markdown",
      "source": [
        "# Import libraries"
      ],
      "metadata": {
        "id": "LYIPhWRF4yy6"
      }
    },
    {
      "cell_type": "code",
      "execution_count": null,
      "metadata": {
        "id": "Y-V07eEkj74N"
      },
      "outputs": [],
      "source": [
        "from sklearn import preprocessing\n",
        "import pandas as pd\n",
        "import numpy as np\n",
        "import matplotlib.pyplot as plt\n",
        "import seaborn as sns"
      ]
    },
    {
      "cell_type": "markdown",
      "source": [
        "# Showing dataframe completely"
      ],
      "metadata": {
        "id": "U3cm87V5smzx"
      }
    },
    {
      "cell_type": "code",
      "source": [
        "pd.set_option('display.width', 2000)\n",
        "pd.set_option('display.max_columns', 61)\n",
        "pd.set_option('display.max_rows', 200)"
      ],
      "metadata": {
        "id": "yIMYO1oNo20v",
        "colab": {
          "base_uri": "https://localhost:8080/",
          "height": 200
        },
        "outputId": "8697234c-92cb-46c4-e89f-4f80f798f12a"
      },
      "execution_count": null,
      "outputs": [
        {
          "output_type": "error",
          "ename": "NameError",
          "evalue": "ignored",
          "traceback": [
            "\u001b[0;31m---------------------------------------------------------------------------\u001b[0m",
            "\u001b[0;31mNameError\u001b[0m                                 Traceback (most recent call last)",
            "\u001b[0;32m<ipython-input-3-a4d6bd569cd7>\u001b[0m in \u001b[0;36m<module>\u001b[0;34m()\u001b[0m\n\u001b[0;32m----> 1\u001b[0;31m \u001b[0mpd\u001b[0m\u001b[0;34m.\u001b[0m\u001b[0mset_option\u001b[0m\u001b[0;34m(\u001b[0m\u001b[0;34m'display.width'\u001b[0m\u001b[0;34m,\u001b[0m \u001b[0;36m2000\u001b[0m\u001b[0;34m)\u001b[0m\u001b[0;34m\u001b[0m\u001b[0;34m\u001b[0m\u001b[0m\n\u001b[0m\u001b[1;32m      2\u001b[0m \u001b[0mpd\u001b[0m\u001b[0;34m.\u001b[0m\u001b[0mset_option\u001b[0m\u001b[0;34m(\u001b[0m\u001b[0;34m'display.max_columns'\u001b[0m\u001b[0;34m,\u001b[0m \u001b[0;36m61\u001b[0m\u001b[0;34m)\u001b[0m\u001b[0;34m\u001b[0m\u001b[0;34m\u001b[0m\u001b[0m\n\u001b[1;32m      3\u001b[0m \u001b[0mpd\u001b[0m\u001b[0;34m.\u001b[0m\u001b[0mset_option\u001b[0m\u001b[0;34m(\u001b[0m\u001b[0;34m'display.max_rows'\u001b[0m\u001b[0;34m,\u001b[0m \u001b[0;36m200\u001b[0m\u001b[0;34m)\u001b[0m\u001b[0;34m\u001b[0m\u001b[0;34m\u001b[0m\u001b[0m\n",
            "\u001b[0;31mNameError\u001b[0m: name 'pd' is not defined"
          ]
        }
      ]
    },
    {
      "cell_type": "markdown",
      "source": [
        "# Reading csv files"
      ],
      "metadata": {
        "id": "3jvDmcu1d-aX"
      }
    },
    {
      "cell_type": "code",
      "source": [
        "questions = pd.read_csv('/content/DM1_dataset/Questions.csv')\n",
        "answers = pd.read_csv('/content/DM1_dataset/Answers.csv')"
      ],
      "metadata": {
        "id": "9pGEHjkUeDJl"
      },
      "execution_count": null,
      "outputs": []
    },
    {
      "cell_type": "markdown",
      "source": [
        "# Missing values"
      ],
      "metadata": {
        "id": "05hX01ee2agD"
      }
    },
    {
      "cell_type": "markdown",
      "source": [
        "## calculating percentage"
      ],
      "metadata": {
        "id": "QbYhRxyq5BI1"
      }
    },
    {
      "cell_type": "code",
      "source": [
        "#counting number of missing values per column\n",
        "NaN_num = answers.isna().sum()\n",
        "\n",
        "#define a dictionary for storing percentage of missing values in each column\n",
        "NaN_percent = dict()\n",
        "answers_columns = answers.columns\n",
        "total_num = len(answers)\n",
        "\n",
        "#calculating percentage of missing values per column\n",
        "for num in range(len(NaN_num)):\n",
        "    NaN_percent[answers_columns[num]] = NaN_num[num] * 100 / total_num"
      ],
      "metadata": {
        "id": "74tafhKi2dHC"
      },
      "execution_count": null,
      "outputs": []
    },
    {
      "cell_type": "markdown",
      "source": [
        "## Handling"
      ],
      "metadata": {
        "id": "HpQPVId45KUn"
      }
    },
    {
      "cell_type": "code",
      "source": [
        "#sorting list of percentages to find columns with max number of missing values that stored in max_miss list\n",
        "sort = sorted(NaN_percent.items(), key=lambda x: x[1], reverse=True)\n",
        "max_miss = list()\n",
        "for i in sort:\n",
        "    if i[1] >= 40.0:\n",
        "        max_miss.append(i[0])\n",
        "    else:\n",
        "        break"
      ],
      "metadata": {
        "id": "wjTa2cBf5RLQ"
      },
      "execution_count": null,
      "outputs": []
    },
    {
      "cell_type": "code",
      "source": [
        "# deleting columns have many missing values\n",
        "processed_ans = answers.drop(axis=1, columns=max_miss)"
      ],
      "metadata": {
        "id": "rUmADKmE5Z3_"
      },
      "execution_count": null,
      "outputs": []
    },
    {
      "cell_type": "code",
      "source": [
        "# finding type of columns\n",
        "print(processed_ans.dtypes)\n",
        "\n",
        "# filling missing values with mean for numeric(float64) columns\n",
        "numeric = ['Age', 'WorkWeekHrs']\n",
        "for i in numeric:\n",
        "    processed_ans[i] = processed_ans[i].fillna(processed_ans[i].mean())\n",
        "\n",
        "# filling missing values with mode for categorical columns\n",
        "categorical = ['MainBranch', 'Hobbyist', 'Age1stCode', 'CompFreq', 'Country', 'CurrencyDesc', 'CurrencySymbol',\n",
        "               'EdLevel', 'Employment', 'Ethnicity', 'Gender', 'JobSat', 'JobSeek', 'NEWDevOps', 'NEWDevOpsImpt',\n",
        "               'NEWEdImpt', 'NEWLearn', 'NEWOffTopic', 'NEWOnboardGood', 'NEWOtherComms', 'NEWOvertime', 'NEWPurpleLink',\n",
        "               'OpSys', 'OrgSize', 'PurchaseWhat', 'Sexuality', 'SOAccount', 'SOComm', 'SOPartFreq', 'SOVisitFreq',\n",
        "               'SurveyEase', 'SurveyLength', 'Trans', 'UndergradMajor', 'WelcomeChange', 'YearsCode', 'YearsCodePro']\n",
        "for i in categorical:\n",
        "    processed_ans[i] = processed_ans[i].fillna(processed_ans[i].mode()[0])\n"
      ],
      "metadata": {
        "id": "yyM7Qb1c5auS"
      },
      "execution_count": null,
      "outputs": []
    },
    {
      "cell_type": "code",
      "source": [
        "# remained columns\n",
        "remained = list()\n",
        "for i in answers_columns:\n",
        "    if i not in (max_miss + numeric + categorical):\n",
        "        remained.append(i)\n",
        "\n",
        "multi_value = dict()\n",
        "for i in range(1, len(remained)):\n",
        "    multi_value.clear()\n",
        "    column = processed_ans[remained[i]]\n",
        "    for row in column:\n",
        "        values = str(row).split(';')\n",
        "        for val in values:\n",
        "            if val != 'nan':\n",
        "                if val not in multi_value.keys():\n",
        "                    multi_value[val] = 1\n",
        "                else:\n",
        "                    multi_value[val] += 1\n",
        "    if remained[i] == 'LanguageWorkedWith':\n",
        "        LanguageWorkedWith = multi_value.keys()\n",
        "    fill_value = max(multi_value, key=multi_value.get)\n",
        "    processed_ans[remained[i]] = processed_ans[remained[i]].fillna(fill_value)"
      ],
      "metadata": {
        "id": "5vCFNyOZ81yx"
      },
      "execution_count": null,
      "outputs": []
    },
    {
      "cell_type": "markdown",
      "source": [
        "# Outliers"
      ],
      "metadata": {
        "id": "dTrwj38-Blvd"
      }
    },
    {
      "cell_type": "code",
      "source": [
        "# use label encoder to encode object data types\n",
        "encod_ans = processed_ans.copy()\n",
        "object_type = categorical + remained\n",
        "label_encoder = preprocessing.LabelEncoder()\n",
        "for i in object_type:\n",
        "    encod_ans[i] = label_encoder.fit_transform(encod_ans[i])"
      ],
      "metadata": {
        "id": "WJZH7cXhBqqi"
      },
      "execution_count": null,
      "outputs": []
    },
    {
      "cell_type": "code",
      "source": [
        "# show boxplot of all columns\n",
        "for i in encod_ans.columns:\n",
        "    plt.boxplot(encod_ans[i])\n",
        "    plt.title(i)\n",
        "    plt.show()"
      ],
      "metadata": {
        "id": "dCq6Lfp4B0rZ"
      },
      "execution_count": null,
      "outputs": []
    },
    {
      "cell_type": "code",
      "source": [
        "# features without outlier\n",
        "no_outlier_columns = ['Respondent','CompFreq','Country','CurrencyDesc','CurrencySymbol','JobFactors',\n",
        "                      'JobSat','JobSeek','LanguageDesireNextYear','LanguageWorkedWith','MiscTechWorkedWith',\n",
        "                      'NEWCollabToolsWorkedWith','NEWDevOps','NEWEdImpt','NEWJobHuntResearch','NEWLearn',\n",
        "                      'NEWOffTopic','NEWOnboardGood','NEWOtherComms','NEWOvertime','NEWPurpleLink',\n",
        "                      'NEWStuck','OrgSize','PlatformDesireNextYear','PlatformWorkedWith','SOComm',\n",
        "                      'SOVisitFreq','SurveyEase','YearsCode', 'YearsCodePro']\n",
        "\n",
        "# discrete columns (no outlier)\n",
        "discrete_columns = ['Hobbyist', 'Gender', 'PurchaseWhat', 'Sexuality', 'SOAccount', 'SurveyLength', 'Trans',\n",
        "                    'UndergradMajor', 'WelcomeChange']"
      ],
      "metadata": {
        "id": "gXLV-WDoB8zv"
      },
      "execution_count": null,
      "outputs": []
    },
    {
      "cell_type": "code",
      "source": [
        "# features with outlier\n",
        "outlier_columns = list()\n",
        "for i in encod_ans.columns:\n",
        "    if i not in (no_outlier_columns + discrete_columns):\n",
        "        outlier_columns.append(i)"
      ],
      "metadata": {
        "id": "0cd5z20TCMEv"
      },
      "execution_count": null,
      "outputs": []
    },
    {
      "cell_type": "code",
      "source": [
        "# detecting outliers\n",
        "for i in outlier_columns:\n",
        "    plt.plot(encod_ans[i], 'o')\n",
        "    plt.title(i)\n",
        "    plt.show()"
      ],
      "metadata": {
        "id": "tOHMRC1iCMqr"
      },
      "execution_count": null,
      "outputs": []
    },
    {
      "cell_type": "code",
      "source": [
        "# outlier removal\n",
        "for row in range(len(encod_ans['Age'])):\n",
        "    if encod_ans.loc[row, 'Age'] > 250.0:\n",
        "        remove = encod_ans.loc[row, 'Respondent']\n",
        "encod_ans = encod_ans.set_index('Respondent').drop(remove)"
      ],
      "metadata": {
        "id": "ir9_It4HCQDK"
      },
      "execution_count": null,
      "outputs": []
    }
  ]
}